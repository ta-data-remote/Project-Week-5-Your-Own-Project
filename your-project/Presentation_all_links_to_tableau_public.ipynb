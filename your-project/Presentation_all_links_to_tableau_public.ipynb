{
 "cells": [
  {
   "cell_type": "markdown",
   "id": "174d2b25",
   "metadata": {},
   "source": [
    "#### Here is a presenatation made in tableau and saved all dashboards on tableau public:\n"
   ]
  },
  {
   "cell_type": "markdown",
   "id": "25318faa",
   "metadata": {},
   "source": [
    "Coverpage:\n",
    "https://public.tableau.com/app/profile/ayub.pathan/viz/DataAnalysisDeathbycauses/PresentatioCoverPage"
   ]
  },
  {
   "cell_type": "markdown",
   "id": "d82fe582",
   "metadata": {},
   "source": [
    "Short overview:\n",
    "https://public.tableau.com/app/profile/ayub.pathan/viz/DataAnalysisDeathbycauses/ShortOverview"
   ]
  },
  {
   "cell_type": "markdown",
   "id": "f532c4f1",
   "metadata": {},
   "source": [
    "Questions raised: \n",
    "https://public.tableau.com/app/profile/ayub.pathan/viz/DataAnalysisDeathbycauses/Questionstobeasked"
   ]
  },
  {
   "cell_type": "markdown",
   "id": "ac1bdba1",
   "metadata": {},
   "source": [
    "Major Contributors:\n",
    "https://public.tableau.com/app/profile/ayub.pathan/viz/DataAnalysisDeathbycauses/MajorContributors"
   ]
  },
  {
   "cell_type": "markdown",
   "id": "1d72cf79",
   "metadata": {},
   "source": [
    "Age Factor Consideration:\n",
    "https://public.tableau.com/app/profile/ayub.pathan/viz/DataAnalysisDeathbycauses/AgeFactorConsideration"
   ]
  },
  {
   "cell_type": "markdown",
   "id": "079a1526",
   "metadata": {},
   "source": [
    "Other causes:\n",
    "https://public.tableau.com/app/profile/ayub.pathan/viz/DataAnalysisDeathbycauses/Othercauses"
   ]
  },
  {
   "cell_type": "markdown",
   "id": "c1eb554f",
   "metadata": {},
   "source": [
    "Grouping 1: Category_2_&_3\n",
    "https://public.tableau.com/app/profile/ayub.pathan/viz/DataAnalysisDeathbycauses/Grouping1"
   ]
  },
  {
   "cell_type": "markdown",
   "id": "e9784216",
   "metadata": {},
   "source": [
    "Grouping 2: Category_1_&_4\n",
    "https://public.tableau.com/app/profile/ayub.pathan/viz/DataAnalysisDeathbycauses/Grouping2"
   ]
  },
  {
   "cell_type": "markdown",
   "id": "ea01d929",
   "metadata": {},
   "source": [
    "Exploring through mapping:\n",
    "https://public.tableau.com/app/profile/ayub.pathan/viz/DataAnalysisDeathbycauses/ExploringthroughMap"
   ]
  },
  {
   "cell_type": "markdown",
   "id": "0248f1d9",
   "metadata": {},
   "source": [
    "Comparing high & low SDI\n",
    "https://public.tableau.com/app/profile/ayub.pathan/viz/DataAnalysisDeathbycauses/ComparisonSDI"
   ]
  },
  {
   "cell_type": "markdown",
   "id": "6e4eb0aa",
   "metadata": {},
   "source": [
    "Relative change over years:\n",
    "https://public.tableau.com/app/profile/ayub.pathan/viz/DataAnalysisDeathbycauses/RelativeChangeoveryears"
   ]
  },
  {
   "cell_type": "markdown",
   "id": "9fb36999",
   "metadata": {},
   "source": [
    "Conclusion:\n",
    "https://public.tableau.com/app/profile/ayub.pathan/viz/DataAnalysisDeathbycauses/Conclusion"
   ]
  },
  {
   "cell_type": "code",
   "execution_count": null,
   "id": "4d4681d7",
   "metadata": {},
   "outputs": [],
   "source": []
  }
 ],
 "metadata": {
  "kernelspec": {
   "display_name": "Python 3",
   "language": "python",
   "name": "python3"
  },
  "language_info": {
   "codemirror_mode": {
    "name": "ipython",
    "version": 3
   },
   "file_extension": ".py",
   "mimetype": "text/x-python",
   "name": "python",
   "nbconvert_exporter": "python",
   "pygments_lexer": "ipython3",
   "version": "3.8.10"
  }
 },
 "nbformat": 4,
 "nbformat_minor": 5
}
